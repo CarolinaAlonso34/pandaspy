{
 "cells": [
  {
   "cell_type": "markdown",
   "metadata": {},
   "source": [
    "![Libreria de Pandas](https://aprendeconalf.es/docencia/python/manual/img/pandas-logo.png)\n",
    "\n",
    "Pandas es una libreria de Python especializada en el manejo y análisis de estructuras de datos.\n",
    "\n",
    "Las principales características de esta librería son:\n",
    "* Define nuevas estructuras de datos basadas en la información que ingresemos, también podemos usar los arrays de la librería NumPy añadiendo funcionalidades.\n",
    "* Permite leer y escribir fácilmente ficheros en formato CSV, Excel y bases de datos SQL.\n",
    "* Permite acceder a los datos mediante índices o nombres para filas y columnas.\n",
    "* Ofrece métodos para reordenar, dividir y combinar conjuntos de datos.\n",
    "* Permite trabajar con series temporales.\n",
    "* Realiza todas estas operaciones de manera muy eficiente."
   ]
  },
  {
   "cell_type": "code",
   "execution_count": null,
   "metadata": {},
   "outputs": [],
   "source": []
  },
  {
   "cell_type": "markdown",
   "metadata": {},
   "source": [
    "## Instalación de librerías base\n",
    "\n",
    "1. INSTALAR:\n",
    "\n",
    "```\n",
    "-> pip install pandas\n",
    "```"
   ]
  },
  {
   "cell_type": "markdown",
   "metadata": {},
   "source": [
    "### TIPOS DE DATOS EN PANDAS\n",
    "\n",
    "Pandas dispone de tres estructuras de datos diferentes:\n",
    "* Series: Estructura de una dimensión.\n",
    "* DataFrame: Estructura de dos dimensiones (tablas).\n",
    "* Panel: Estructura de tres dimensiones (cubos).\n",
    "\n",
    "![Tipos de Datos en Pandas](https://camo.qiitausercontent.com/5a1924b47a5200f0618fddda44db1f357201d5ef/68747470733a2f2f71696974612d696d6167652d73746f72652e73332e61702d6e6f727468656173742d312e616d617a6f6e6177732e636f6d2f302f3131373437392f32623061326364342d636131392d633665342d313364342d3664323133636432306539642e706e67)\n"
   ]
  },
  {
   "cell_type": "markdown",
   "metadata": {},
   "source": [
    "### SERIES\n",
    "\n",
    "Son estructuras similares a los arrays de una dimensión. Son homogéneas, es decir, sus elementos tienen que ser del mismo tipo, y su tamaño es inmutable, es decir, no se puede cambiar, aunque si su contenido. Dispone de un índice que asocia un nombre a cada elemento de la serie, a través de la cuál se accede al elemento.\n",
    "\n",
    "* Creación de series.\n",
    "\n",
    "   Creación de una serie a partir de una lista\n",
    "   ***Series(data=lista, index=indices, dtype=tipo)***\n",
    "\n",
    "* Creación de una serie a partir de un diccionario.\n",
    "\n",
    "   ***Series(data=diccionario, index=indices):*** Devuelve un objeto de tipo Series con los valores del diccionario y las filas especificados en la lista indices.\n",
    "\n",
    "Ejemplo. La siguiente serie contiene las asignaturas de un curso.\n",
    "\n",
    "\n"
   ]
  },
  {
   "cell_type": "code",
   "execution_count": 8,
   "metadata": {},
   "outputs": [
    {
     "name": "stdout",
     "output_type": "stream",
     "text": [
      "0     Matemáticas\n",
      "1        Historia\n",
      "2        Economía\n",
      "3    Programación\n",
      "4          Inglés\n",
      "dtype: string\n"
     ]
    }
   ],
   "source": [
    "import pandas as pd\n",
    "s = pd.Series(['Matemáticas', 'Historia', 'Economía', 'Programación', 'Inglés'], dtype='string')\n",
    "print(s)"
   ]
  },
  {
   "cell_type": "markdown",
   "metadata": {},
   "source": [
    "Ejemplo. La siguiente serie contiene las asignaturas de un curso y las notas."
   ]
  },
  {
   "cell_type": "code",
   "execution_count": 9,
   "metadata": {},
   "outputs": [
    {
     "name": "stdout",
     "output_type": "stream",
     "text": [
      "Matemáticas     6.0\n",
      "Economía        4.5\n",
      "Programación    8.5\n",
      "dtype: float64\n"
     ]
    }
   ],
   "source": [
    "import pandas as pd\n",
    "s2 = pd.Series({'Matemáticas': 6.0,  'Economía': 4.5, 'Programación': 8.5})\n",
    "print(s2)"
   ]
  },
  {
   "cell_type": "markdown",
   "metadata": {},
   "source": [
    "### Atributos de una serie\n",
    "Existen varias propiedades o métodos para ver las características de una serie.\n",
    "\n",
    "* ```s.size``` : Devuelve el número de elementos de la serie s.\n",
    "\n",
    "* ```s.index``` : Devuelve una lista con los nombres de las filas del DataFrame s.\n",
    "\n",
    "* ```s.dtype``` : Devuelve el tipo de datos de los elementos de la serie s."
   ]
  },
  {
   "cell_type": "code",
   "execution_count": 10,
   "metadata": {},
   "outputs": [
    {
     "data": {
      "text/plain": [
       "10"
      ]
     },
     "execution_count": 10,
     "metadata": {},
     "output_type": "execute_result"
    }
   ],
   "source": [
    "import pandas as pd\n",
    "s = pd.Series([1, 2, 2, 3, 3, 3, 4, 4, 4, 4])\n",
    "s.size"
   ]
  },
  {
   "cell_type": "code",
   "execution_count": 11,
   "metadata": {},
   "outputs": [
    {
     "data": {
      "text/plain": [
       "RangeIndex(start=0, stop=10, step=1)"
      ]
     },
     "execution_count": 11,
     "metadata": {},
     "output_type": "execute_result"
    }
   ],
   "source": [
    "s.index\n"
   ]
  },
  {
   "cell_type": "code",
   "execution_count": 12,
   "metadata": {},
   "outputs": [
    {
     "data": {
      "text/plain": [
       "dtype('int64')"
      ]
     },
     "execution_count": 12,
     "metadata": {},
     "output_type": "execute_result"
    }
   ],
   "source": [
    "s.dtype"
   ]
  },
  {
   "cell_type": "markdown",
   "metadata": {},
   "source": [
    "## Acceso a los elementos de una serie\n",
    "El acceso a los elementos de un objeto del tipo Series puede ser a través de posiciones o través de índices (nombres).\n",
    "\n",
    "### Acceso por posición\n",
    "Se realiza de forma similar a como se accede a los elementos de un array.\n",
    "\n",
    "* ```s[i]``` : Devuelve el elemento que ocupa la posición ```i+1``` en la serie ```s```.\n",
    "* ```s[posiciones]```: Devuelve otra serie con los elementos que ocupan las posiciones de la lista ```posiciones```.\n",
    "### Acceso por índice\n",
    "* ```s[nombre]``` : Devuelve el elemento con el nombre ```nombre``` en el índice.\n",
    "* ```s[nombres]``` : Devuelve otra serie con los elementos correspondientes a los nombres indicadas en la lista ```nombres``` en el índice."
   ]
  },
  {
   "cell_type": "code",
   "execution_count": 30,
   "metadata": {},
   "outputs": [
    {
     "data": {
      "text/plain": [
       "Matemáticas     6.0\n",
       "Economía        4.5\n",
       "Programación    8.5\n",
       "dtype: float64"
      ]
     },
     "execution_count": 30,
     "metadata": {},
     "output_type": "execute_result"
    }
   ],
   "source": [
    "s2[0:3]"
   ]
  },
  {
   "cell_type": "code",
   "execution_count": 14,
   "metadata": {},
   "outputs": [
    {
     "data": {
      "text/plain": [
       "np.float64(4.5)"
      ]
     },
     "execution_count": 14,
     "metadata": {},
     "output_type": "execute_result"
    }
   ],
   "source": [
    "s2['Economía']"
   ]
  },
  {
   "cell_type": "code",
   "execution_count": 15,
   "metadata": {},
   "outputs": [
    {
     "data": {
      "text/plain": [
       "Programación    8.5\n",
       "Matemáticas     6.0\n",
       "dtype: float64"
      ]
     },
     "execution_count": 15,
     "metadata": {},
     "output_type": "execute_result"
    }
   ],
   "source": [
    "s2[['Programación', 'Matemáticas']]"
   ]
  },
  {
   "cell_type": "markdown",
   "metadata": {},
   "source": [
    "### Resumen descriptivo de una serie\n",
    "Las siguientes funciones permiten resumir varios aspectos de una serie:\n",
    "\n",
    "* ```s.count()``` : Devuelve el número de elementos que no son nulos ni ```NaN``` en la serie ```s```.\n",
    "* ```s.sum()``` : Devuelve la suma de los datos de la serie ```s``` cuando los datos son de un tipo numérico, o la concatenación de ellos cuando son del tipo cadena ```str```.\n",
    "* ```s.cumsum()``` : Devuelve una serie con la suma acumulada de los datos de la serie ```s``` cuando los datos son de un tipo numérico.\n",
    "* ```s.value_counts()``` : Devuelve una serie con la frecuencia (número de repeticiones) de cada valor de la serie ```s```.\n",
    "* ```s.min()``` : Devuelve el menor de los datos de la serie ```s```.\n",
    "* ```s.max()``` : Devuelve el mayor de los datos de la serie ```s```.\n",
    "* ```s.mean()``` : Devuelve la media de los datos de la serie ```s``` cuando los datos son de un tipo numérico.\n",
    "* ```s.var()``` : Devuelve la varianza de los datos de la serie ```s``` cuando los datos son de un tipo numérico.\n",
    "* ```s.std()``` : Devuelve la desviación típica de los datos de la serie ```s``` cuando los datos son de un tipo numérico.\n",
    "* ```s.describe()```: Devuelve una serie con un resumen descriptivo que incluye el número de datos, su suma, el mínimo, el máximo, la media, la desviación típica y los cuartiles."
   ]
  },
  {
   "cell_type": "code",
   "execution_count": 17,
   "metadata": {},
   "outputs": [
    {
     "data": {
      "text/plain": [
       "np.int64(10)"
      ]
     },
     "execution_count": 17,
     "metadata": {},
     "output_type": "execute_result"
    }
   ],
   "source": [
    "s = pd.Series([1, 1, 1, 1, 2, 2, 2, 3, 3, 4])\n",
    "s.count()"
   ]
  },
  {
   "cell_type": "code",
   "execution_count": 18,
   "metadata": {},
   "outputs": [
    {
     "data": {
      "text/plain": [
       "np.int64(20)"
      ]
     },
     "execution_count": 18,
     "metadata": {},
     "output_type": "execute_result"
    }
   ],
   "source": [
    "s.sum()"
   ]
  },
  {
   "cell_type": "code",
   "execution_count": 19,
   "metadata": {},
   "outputs": [
    {
     "data": {
      "text/plain": [
       "0     1\n",
       "1     2\n",
       "2     3\n",
       "3     4\n",
       "4     6\n",
       "5     8\n",
       "6    10\n",
       "7    13\n",
       "8    16\n",
       "9    20\n",
       "dtype: int64"
      ]
     },
     "execution_count": 19,
     "metadata": {},
     "output_type": "execute_result"
    }
   ],
   "source": [
    "s.cumsum()"
   ]
  },
  {
   "cell_type": "code",
   "execution_count": 20,
   "metadata": {},
   "outputs": [
    {
     "data": {
      "text/plain": [
       "1    4\n",
       "2    3\n",
       "3    2\n",
       "4    1\n",
       "Name: count, dtype: int64"
      ]
     },
     "execution_count": 20,
     "metadata": {},
     "output_type": "execute_result"
    }
   ],
   "source": [
    "s.value_counts()"
   ]
  },
  {
   "cell_type": "code",
   "execution_count": 21,
   "metadata": {},
   "outputs": [
    {
     "data": {
      "text/plain": [
       "np.int64(1)"
      ]
     },
     "execution_count": 21,
     "metadata": {},
     "output_type": "execute_result"
    }
   ],
   "source": [
    "s.min()"
   ]
  },
  {
   "cell_type": "code",
   "execution_count": 22,
   "metadata": {},
   "outputs": [
    {
     "data": {
      "text/plain": [
       "np.int64(4)"
      ]
     },
     "execution_count": 22,
     "metadata": {},
     "output_type": "execute_result"
    }
   ],
   "source": [
    "s.max()"
   ]
  },
  {
   "cell_type": "code",
   "execution_count": 23,
   "metadata": {},
   "outputs": [
    {
     "data": {
      "text/plain": [
       "np.float64(2.0)"
      ]
     },
     "execution_count": 23,
     "metadata": {},
     "output_type": "execute_result"
    }
   ],
   "source": [
    "s.mean()"
   ]
  },
  {
   "cell_type": "code",
   "execution_count": 24,
   "metadata": {},
   "outputs": [
    {
     "name": "stdout",
     "output_type": "stream",
     "text": [
      "1.1111111111111112\n"
     ]
    }
   ],
   "source": [
    "print(s.var())"
   ]
  },
  {
   "cell_type": "code",
   "execution_count": 25,
   "metadata": {},
   "outputs": [
    {
     "data": {
      "text/plain": [
       "count    10.000000\n",
       "mean      2.000000\n",
       "std       1.054093\n",
       "min       1.000000\n",
       "25%       1.000000\n",
       "50%       2.000000\n",
       "75%       2.750000\n",
       "max       4.000000\n",
       "dtype: float64"
      ]
     },
     "execution_count": 25,
     "metadata": {},
     "output_type": "execute_result"
    }
   ],
   "source": [
    "s.describe()"
   ]
  },
  {
   "cell_type": "markdown",
   "metadata": {},
   "source": [
    "### Aplicar operaciones a una serie\n",
    "Los operadores binarios (```+```, ```*```, ```/```, etc.) pueden utilizarse con una serie, y devuelven otra serie con el resultado de aplicar la operación a cada elemento de la serie."
   ]
  },
  {
   "cell_type": "code",
   "execution_count": 26,
   "metadata": {},
   "outputs": [
    {
     "name": "stdout",
     "output_type": "stream",
     "text": [
      "0    2\n",
      "1    4\n",
      "2    6\n",
      "3    8\n",
      "dtype: int64\n",
      "0    1\n",
      "1    0\n",
      "2    1\n",
      "3    0\n",
      "dtype: int64\n"
     ]
    }
   ],
   "source": [
    "s = pd.Series([1, 2, 3, 4])\n",
    "print(s*2)\n",
    "print(s%2)"
   ]
  },
  {
   "cell_type": "code",
   "execution_count": 27,
   "metadata": {},
   "outputs": [
    {
     "data": {
      "text/plain": [
       "0    aaaaa\n",
       "1    bbbbb\n",
       "2    ccccc\n",
       "dtype: object"
      ]
     },
     "execution_count": 27,
     "metadata": {},
     "output_type": "execute_result"
    }
   ],
   "source": [
    "s = pd.Series(['a', 'b', 'c'])\n",
    "s*5"
   ]
  },
  {
   "cell_type": "code",
   "execution_count": 28,
   "metadata": {},
   "outputs": [
    {
     "name": "stdout",
     "output_type": "stream",
     "text": [
      "========= Filtros ========\n",
      "Algoritmos        4.6\n",
      "Bases de Datos    3.5\n",
      "POO I             4.5\n",
      "Redes             2.5\n",
      "dtype: float64\n"
     ]
    }
   ],
   "source": [
    "s3=pd.Series({'Algoritmos':4.6,'Bases de Datos':3.5,'POO I':4.5,'Redes':2.5})\n",
    "print('========= Filtros ========')\n",
    "print(s3)"
   ]
  },
  {
   "cell_type": "code",
   "execution_count": 29,
   "metadata": {},
   "outputs": [
    {
     "name": "stdout",
     "output_type": "stream",
     "text": [
      "=========================ORDENAMIENTO================================\n",
      ">> Orden Valores \n",
      "Algoritmos        4.6\n",
      "POO I             4.5\n",
      "Bases de Datos    3.5\n",
      "Redes             2.5\n",
      "dtype: float64\n",
      "-----------------------------------------------\n",
      ">> Orden index \n",
      "Algoritmos        4.6\n",
      "Bases de Datos    3.5\n",
      "POO I             4.5\n",
      "Redes             2.5\n",
      "dtype: float64\n"
     ]
    }
   ],
   "source": [
    "print('=========================ORDENAMIENTO================================')\n",
    "print(\">> Orden Valores \")\n",
    "print(s3.sort_values(ascending=False))\n",
    "print('-----------------------------------------------')\n",
    "print(\">> Orden index \")\n",
    "print(s3.sort_index(ascending=True))"
   ]
  },
  {
   "cell_type": "markdown",
   "metadata": {},
   "source": [
    "## La clase de objetos DataFrame\n",
    "Un objeto del tipo DataFrame define un conjunto de datos estructurado en forma de tabla donde cada columna es un objeto de tipo Series, es decir, todos los datos de una misma columna son del mismo tipo, y las filas son registros que pueden contender datos de distintos tipos.\n",
    "\n",
    "Un DataFrame contiene dos índices, uno para las filas y otro para las columnas, y se puede acceder a sus elementos mediante los nombres de las filas y las columnas.\n",
    "\n",
    "Ejemplo. El siguiente DataFrame contiene información sobre los alumnos de un curso. Cada fila corresponde a un alumno y cada columna a una variable.\n",
    "\n",
    "![DataFrame](https://aprendeconalf.es/docencia/python/manual/img/pandas-dataframe.png)\n"
   ]
  },
  {
   "cell_type": "markdown",
   "metadata": {},
   "source": [
    "### Creación de un DataFrame\n",
    "Creación de un DataFrame a partir de un diccionario de listas\n",
    "Para crear un DataFrame a partir de un diccionario cuyas claves son los nombres de las columnas y los valores son listas con los datos de las columnas se utiliza el método:\n",
    "\n",
    "* ```DataFrame(data=diccionario, index=filas, columns=columnas, dtype=tipos)``` : Devuelve un objeto del tipo DataFrame cuyas columnas son las listas contenidas en los valores del diccionario ```diccionario```, los nombres de filas indicados en la lista ```filas```, los nombres de columnas indicados en la lista columnas y los tipos indicados en la lista tipos. La lista filas tiene que tener el mismo tamaño que las listas del diccionario, mientras que las listas ```columnas``` y tipos tienen que tener el mismo tamaño que el diccionario. Si no se pasa la lista de filas se utilizan como nombres los enteros empezando en 0. Si no se pasa la lista de columnas se utilizan como nombres las claves del diccionario. Si no se pasa la lista de tipos, se infiere.\n",
    " Los valores asociados a las claves del diccionario deben ser listas del mismo tamaño."
   ]
  },
  {
   "cell_type": "markdown",
   "metadata": {},
   "source": [
    "### Creacion de un DataFrame Vacio\n",
    "* Un DataFrame vacío es una estructura de datos en la que no se han almacenado filas ni columnas, pero que sigue teniendo una estructura definida. En otras palabras, es un contenedor sin datos, pero con un esquema especificado para las columnas, es decir, los nombres y tipos de datos esperados. En el contexto de bibliotecas de análisis de datos en Python, como pandas, un DataFrame vacío se crea cuando se inicializa una tabla sin agregar aún ninguna información, y suele tener un formato que permite añadir datos posteriormente o manipular la estructura para realizar análisis o transformaciones.\n"
   ]
  },
  {
   "cell_type": "code",
   "execution_count": 35,
   "metadata": {},
   "outputs": [
    {
     "name": "stdout",
     "output_type": "stream",
     "text": [
      "      columna1 columna2\n",
      "fila1      NaN      NaN\n",
      "fila2      NaN      NaN\n"
     ]
    }
   ],
   "source": [
    "import pandas as pd\n",
    "#Sin columnas ni filas:\n",
    "df_vacio = pd.DataFrame()\n",
    "#Con columnas específicas pero sin filas:\n",
    "df_vacio = pd.DataFrame(columns=['columna1', 'columna2', 'columna3'])\n",
    "#Con un índice específico pero sin datos:\n",
    "df_vacio = pd.DataFrame(index=['fila1', 'fila2', 'fila3'])\n",
    "#Con un índice específico pero sin datos:\n",
    "df_vacio = pd.DataFrame(index=['fila1', 'fila2', 'fila3'])\n",
    "#Con columnas y un índice específico pero sin datos:\n",
    "df_vacio = pd.DataFrame(columns=['columna1', 'columna2'], index=['fila1', 'fila2'])\n",
    "\n",
    "\n",
    "print(df_vacio)\n"
   ]
  }
 ],
 "metadata": {
  "kernelspec": {
   "display_name": "Python 3",
   "language": "python",
   "name": "python3"
  },
  "language_info": {
   "codemirror_mode": {
    "name": "ipython",
    "version": 3
   },
   "file_extension": ".py",
   "mimetype": "text/x-python",
   "name": "python",
   "nbconvert_exporter": "python",
   "pygments_lexer": "ipython3",
   "version": "3.12.5"
  }
 },
 "nbformat": 4,
 "nbformat_minor": 2
}
